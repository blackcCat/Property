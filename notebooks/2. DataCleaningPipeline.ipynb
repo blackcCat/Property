{
 "cells": [
  {
   "cell_type": "markdown",
   "metadata": {},
   "source": [
    "# 2. Change data from raw to tabular format"
   ]
  },
  {
   "cell_type": "markdown",
   "metadata": {},
   "source": [
    "## Import"
   ]
  },
  {
   "cell_type": "code",
   "execution_count": 1,
   "metadata": {},
   "outputs": [],
   "source": [
    "import pandas as pd\n",
    "import numpy as np\n",
    "import re\n",
    "import os"
   ]
  },
  {
   "cell_type": "markdown",
   "metadata": {},
   "source": [
    "# Run preprocessing"
   ]
  },
  {
   "cell_type": "code",
   "execution_count": 2,
   "metadata": {},
   "outputs": [],
   "source": [
    "HOUSE_TYPES = ['House', 'Vacant land', 'Apartment', 'Townhouse', 'Villa', 'Retirement Living',\n",
    "               'Development site', 'Terrace', 'New house and land', 'Semi-detached', 'Duplex']"
   ]
  },
  {
   "cell_type": "code",
   "execution_count": 3,
   "metadata": {},
   "outputs": [],
   "source": [
    "for files in ['rawdata1804202504', 'rawdata1804202505', 'rawdata1804202506']:\n",
    "    with open('../'+files+'.txt', 'r') as f:\n",
    "        lines = f.readlines()\n",
    "\n",
    "    df_rows = []\n",
    "\n",
    "    for line in lines:\n",
    "        line_list = eval(line)\n",
    "\n",
    "        for i in range(len(line_list)):\n",
    "\n",
    "            house_info = {\n",
    "                'address': None,\n",
    "                'price': None,\n",
    "                'sold_date': None,\n",
    "                'sold_type': None,\n",
    "                'bedrooms': None,\n",
    "                'bathroom': None,\n",
    "                'car_space': None,\n",
    "                'land_size (m2)': None,\n",
    "                'house_type': None,\n",
    "            }\n",
    "\n",
    "            # part 1: sale information\n",
    "            sold_date_info = line_list[i][0]\n",
    "\n",
    "            # SOLD DATE\n",
    "            sold_date_info_split = sold_date_info.split(' ')\n",
    "            house_info['sold_date'] = ' '.join(sold_date_info_split[-3:])\n",
    "\n",
    "            if sold_date_info_split[2] == 'auction':\n",
    "                house_info['sold_type'] = 'auction'\n",
    "            elif sold_date_info_split[2] == 'private':\n",
    "                house_info['sold_type'] = 'private treaty'\n",
    "            elif sold_date_info_split[2] == 'to':\n",
    "                house_info['sold_type'] = 'sold prior to auction'\n",
    "            else:\n",
    "                pass\n",
    "\n",
    "            # part 2: title\n",
    "            other_info = line_list[i][1]\n",
    "\n",
    "            # PRICE\n",
    "            house_info_str = other_info.split(' ')[0]\n",
    "            house_info['price'] = int(\n",
    "                house_info_str.replace('$', '').replace(',', ''))\n",
    "            other_info = other_info.replace(house_info_str, '')\n",
    "\n",
    "            # BEDROOMS\n",
    "            bedroom_str_list = re.findall(\n",
    "                r'(\\d+) Bed(?=[s0-9])', other_info)  # use regex to find\n",
    "            if len(bedroom_str_list) == 0:\n",
    "                bedroom = 0\n",
    "                house_info['bedrooms'] = bedroom\n",
    "            else:\n",
    "                bedroom_str = bedroom_str_list[0]\n",
    "                for ending in ['Bed', 'Beds']:\n",
    "                    other_info = other_info.replace(\n",
    "                        f'{bedroom_str} {ending}', '')  # remove from other_info\n",
    "                # split from postcode and convert to int\n",
    "                bedroom = int(bedroom_str[4:])\n",
    "                house_info['bedrooms'] = bedroom\n",
    "\n",
    "            # BATHROOMS\n",
    "            baths_str_list = re.findall(\n",
    "                r'(\\d+) Bath(?=[s0-9\\u2212])', other_info)\n",
    "            if len(baths_str_list) == 0:\n",
    "                baths_str = 0\n",
    "                house_info['bathroom'] = baths_str\n",
    "            else:\n",
    "                baths_str = baths_str_list[0]\n",
    "                for ending in ['Bath', 'Baths']:\n",
    "                    other_info = other_info.replace(\n",
    "                        f'{baths_str} {ending}', '')  # remove from other_info\n",
    "                bathroom = int(baths_str)\n",
    "                house_info['bathroom'] = bathroom\n",
    "\n",
    "            # CAR SPACE\n",
    "            parking_str_list = re.findall(r'(\\d+) Parking', other_info)\n",
    "            if len(parking_str_list) == 0:\n",
    "                parking_str_list = re.findall(r'(\\u2212) Parking', other_info)\n",
    "                if len(parking_str_list) != 0:\n",
    "                    other_info = re.sub(r'\\u2212 Parking', '', other_info)\n",
    "                    house_info['car_space'] = 0\n",
    "\n",
    "            else:\n",
    "                other_info = other_info.replace(\n",
    "                    f'{parking_str_list[0]} Parking', '')\n",
    "                car_space = int(parking_str_list[0])\n",
    "                house_info['car_space'] = car_space\n",
    "\n",
    "            # LAND SIZE\n",
    "            unit = 'm'\n",
    "            if 'm²' in other_info:\n",
    "                land_size_str_list = re.findall(r'(\\d+)m²', other_info)\n",
    "            elif 'Vacant land' in other_info:\n",
    "                unit = 'ha'\n",
    "                land_size_str_list = re.findall(\n",
    "                    r'(\\d+(?:\\.\\d+)?)ha', other_info)\n",
    "            if len(land_size_str_list) == 0:\n",
    "                pass\n",
    "            else:\n",
    "                land_size_str = land_size_str_list[0]\n",
    "                other_info = other_info.replace(\n",
    "                    f'{land_size_str}m²' if unit == 'm' else f'{land_size_str}ha', '')\n",
    "                land_size = float(land_size_str)\n",
    "                if unit == 'ha':\n",
    "                    land_size = land_size * 10000\n",
    "                house_info['land_size (m2)'] = land_size\n",
    "\n",
    "            # HOUSE TYPE\n",
    "            for house_type in HOUSE_TYPES:\n",
    "                if house_type in other_info:\n",
    "                    house_info['house_type'] = house_type\n",
    "                    other_info = other_info.replace(house_type, '')\n",
    "                    break\n",
    "\n",
    "            # ADDRESS\n",
    "            house_info['address'] = other_info.strip().replace('\\xa0', '')\n",
    "\n",
    "            df_rows.append(house_info)\n",
    "\n",
    "    # Create DataFrame\n",
    "    df = pd.DataFrame(df_rows)\n",
    "\n",
    "    # Save DataFrame to CSV\n",
    "    output_file = f'../data/curated/processed_{files}.csv'\n",
    "    df.to_csv(output_file, index=False)"
   ]
  },
  {
   "cell_type": "markdown",
   "metadata": {},
   "source": [
    "# Brief look at data"
   ]
  },
  {
   "cell_type": "code",
   "execution_count": 7,
   "metadata": {},
   "outputs": [
    {
     "name": "stdout",
     "output_type": "stream",
     "text": [
      "Total number of properties: 30314\n",
      "Total number of valid houses: 25473\n"
     ]
    }
   ],
   "source": [
    "file_list = os.listdir('../data/curated/')\n",
    "\n",
    "total_properties = 0\n",
    "total_valid_houses = 0\n",
    "for file in file_list:\n",
    "    if file.endswith('.csv'):\n",
    "        df = pd.read_csv('../data/curated/' + file)\n",
    "        total_properties += len(df)\n",
    "        total_valid_houses += len(df[(df['house_type'] == 'House')\n",
    "                                     & (df['land_size (m2)'].notnull())])\n",
    "\n",
    "print(f'Total number of properties: {total_properties}')\n",
    "print(f'Total number of valid houses: {total_valid_houses}')"
   ]
  },
  {
   "cell_type": "code",
   "execution_count": null,
   "metadata": {},
   "outputs": [],
   "source": []
  }
 ],
 "metadata": {
  "kernelspec": {
   "display_name": "Python 3",
   "language": "python",
   "name": "python3"
  },
  "language_info": {
   "codemirror_mode": {
    "name": "ipython",
    "version": 3
   },
   "file_extension": ".py",
   "mimetype": "text/x-python",
   "name": "python",
   "nbconvert_exporter": "python",
   "pygments_lexer": "ipython3",
   "version": "3.11.4"
  }
 },
 "nbformat": 4,
 "nbformat_minor": 2
}
